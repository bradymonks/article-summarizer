{
 "cells": [
  {
   "cell_type": "markdown",
   "metadata": {},
   "source": [
    "# Web Mining and Applied NLP (44-620)\n",
    "\n",
    "## Final Project: Article Summarizer\n",
    "\n",
    "### Student Name: Brady Monks\n",
    "\n",
    "### GitHub Repo URL: https://github.com/bradymonks/article-summarizer\n",
    "\n",
    "Perform the tasks described in the Markdown cells below.  When you have completed the assignment make sure your code cells have all been run (and have output beneath them) and ensure you have committed and pushed ALL of your changes to your assignment repository.\n",
    "\n",
    "You should bring in code from previous assignments to help you answer the questions below.\n",
    "\n",
    "Every question that requires you to write code will have a code cell underneath it; you may either write your entire solution in that cell or write it in a python file (`.py`), then import and run the appropriate code to answer the question."
   ]
  },
  {
   "cell_type": "markdown",
   "metadata": {},
   "source": [
    "1. Find on the internet an article or blog post about a topic that interests you and you are able to get the text for using the technologies we have applied in the course.  Get the html for the article and store it in a file (which you must submit with your project)"
   ]
  },
  {
   "cell_type": "code",
   "execution_count": 1,
   "metadata": {},
   "outputs": [],
   "source": [
    "import requests\n",
    "article_page = requests.get('https://chiefswire.usatoday.com/lists/chiefs-bengals-week-13-takeaways-patrick-mahomes-isiah-pacheco-joshua-williams-defensive-line/')\n",
    "article_html = article_page.text\n",
    "\n",
    "import pickle\n",
    "with open('python-match.pkl', 'wb') as f:\n",
    "    pickle.dump(article_page.text, f)\n"
   ]
  },
  {
   "cell_type": "markdown",
   "metadata": {},
   "source": [
    "2. Read in your article's html source from the file you created in question 1 and do sentiment analysis on the article/post's text (use `.get_text()`).  Print the polarity score with an appropriate label.  Additionally print the number of sentences in the original article (with an appropriate label)"
   ]
  },
  {
   "cell_type": "code",
   "execution_count": 2,
   "metadata": {},
   "outputs": [
    {
     "name": "stdout",
     "output_type": "stream",
     "text": [
      "The polarity score for the entire article is -0.25\n",
      "Total sentences : 54\n"
     ]
    }
   ],
   "source": [
    "from bs4 import BeautifulSoup\n",
    "parser = 'html.parser'\n",
    "soup = BeautifulSoup(article_html, parser)\n",
    "article_element = soup.find('article')\n",
    "text_article = article_element.get_text()\n",
    "\n",
    "import spacy\n",
    "from spacytextblob.spacytextblob import SpacyTextBlob\n",
    "\n",
    "nlp = spacy.load('en_core_web_sm')\n",
    "nlp.add_pipe('spacytextblob')\n",
    "text_article1 = ' '.join(text_article)\n",
    "doc_article = nlp(text_article1)\n",
    "print(\"The polarity score for the entire article is\",doc_article._.blob.polarity ) \n",
    "\n",
    "text = text_article1.split()\n",
    "print(\"Total sentences : \" + str(text.count('.')))\n"
   ]
  },
  {
   "cell_type": "markdown",
   "metadata": {},
   "source": [
    "3. Load the article text into a trained `spaCy` pipeline, and determine the 5 most frequent tokens (converted to lower case).  Print the common tokens with an appropriate label.  Additionally, print the tokens their frequencies (with appropriate labels)"
   ]
  },
  {
   "cell_type": "code",
   "execution_count": 3,
   "metadata": {},
   "outputs": [
    {
     "name": "stdout",
     "output_type": "stream",
     "text": [
      "The most common tokens and their frequencies are: [('game', 14), ('chiefs', 13), ('bengals', 11), ('week', 9), ('13', 7)]\n"
     ]
    }
   ],
   "source": [
    "\n",
    "\n",
    "nlp = spacy.load('en_core_web_sm')\n",
    "nlp.add_pipe('spacytextblob')\n",
    "doc = nlp(article_element.get_text())\n",
    "\n",
    "non_ws_tokens = []\n",
    "for token in doc:\n",
    "    if not token.is_space:\n",
    "        non_ws_tokens.append(token)\n",
    "\n",
    "def we_care_about(token):\n",
    "    return not (token.is_space or token.is_punct or token.is_stop)\n",
    "\n",
    "interesting_tokens = [token for token in doc if we_care_about(token)]\n",
    "int_tok_lower = []\n",
    "for word in interesting_tokens:\n",
    "    int_tok_lower.append(word.lower_)\n",
    "\n",
    "from collections import Counter  \n",
    "    \n",
    "token_freq = Counter(map(str,int_tok_lower))\n",
    "print(\"The most common tokens and their frequencies are:\",token_freq.most_common(5))"
   ]
  },
  {
   "cell_type": "markdown",
   "metadata": {},
   "source": [
    "4. Load the article text into a trained `spaCy` pipeline, and determine the 5 most frequent lemmas (converted to lower case).  Print the common lemmas with an appropriate label.  Additionally, print the lemmas with their frequencies (with appropriate labels)."
   ]
  },
  {
   "cell_type": "code",
   "execution_count": 4,
   "metadata": {},
   "outputs": [
    {
     "name": "stdout",
     "output_type": "stream",
     "text": [
      "The most common lemmas and their frequencies are: [('game', 14), ('chiefs', 13), ('bengals', 11), ('week', 9), ('13', 7)]\n"
     ]
    }
   ],
   "source": [
    "interesting_lemmas = [token.lemma_ for token in doc if we_care_about(token)]\n",
    "\n",
    "int_lem_lower = []\n",
    "for word in interesting_tokens:\n",
    "    int_lem_lower.append(word.lower_)\n",
    "\n",
    "lemma_freq = Counter(int_lem_lower)\n",
    "print(\"The most common lemmas and their frequencies are:\",lemma_freq.most_common(5))"
   ]
  },
  {
   "cell_type": "markdown",
   "metadata": {},
   "source": [
    "5. Make a list containing the scores (using tokens) of every sentence in the article, and plot a histogram with appropriate titles and axis labels of the scores. From your histogram, what seems to be the most common range of scores (put the answer in a comment after your code)?"
   ]
  },
  {
   "cell_type": "code",
   "execution_count": 5,
   "metadata": {},
   "outputs": [
    {
     "name": "stdout",
     "output_type": "stream",
     "text": [
      "[0.07, 0.07, 0.21, 0.0, 0.1, 0.21, 0.05, 0.03, 0.0, 0.0, 0.0, 0.1, 0.12, 0.0, 0.05, 0.06, 0.0, 0.1, 0.05, 0.0, 0.11, 0.15, 0.06, 0.11, 0.0, 0.0, 0.0, 0.03, 0.0, 0.04, 0.05, 0.0, 0.0, 0.0, 0.04, 0.05, 0.0, 0.08, 0.04, 0.1, 0.04, 0.05, 0.08, 0.04, 0.0, 0.0, 0.02, 0.0, 0.0]\n"
     ]
    }
   ],
   "source": [
    "sentences = list(doc.sents) \n",
    "\n",
    "token_words = set()\n",
    "for token, freq in token_freq.most_common(5):\n",
    "    token_words.add(token)\n",
    "\n",
    "tscores = []\n",
    "for sentence in sentences:\n",
    "    tcount = 0\n",
    "    wcount = 0\n",
    "    for token in sentence:\n",
    "        if token.lemma_.lower() in token_words:\n",
    "            tcount += 1\n",
    "        wcount +=1\n",
    "    sent_str = str(sentence).replace('\\n','').replace('  ',' ')\n",
    "    tscores.append(round(tcount/wcount,2))\n",
    "print(tscores)\n"
   ]
  },
  {
   "cell_type": "code",
   "execution_count": 6,
   "metadata": {},
   "outputs": [
    {
     "data": {
      "image/png": "[encoded data removed]",
      "text/plain": [
       "<Figure size 432x288 with 1 Axes>"
      ]
     },
     "metadata": {
      "needs_background": "light"
     },
     "output_type": "display_data"
    }
   ],
   "source": [
    "import matplotlib.pyplot as plt\n",
    "plt.hist(tscores)\n",
    "plt.xlabel('Score')\n",
    "plt.ylabel('Count')\n",
    "plt.title('Score of Tokens')\n",
    "plt.show()"
   ]
  },
  {
   "cell_type": "markdown",
   "metadata": {},
   "source": [
    "6. Make a list containing the scores (using lemmas) of every sentence in the article, and plot a histogram with appropriate titles and axis labels of the scores.  From your histogram, what seems to be the most common range of scores (put the answer in a comment after your code)?"
   ]
  },
  {
   "cell_type": "code",
   "execution_count": 7,
   "metadata": {},
   "outputs": [
    {
     "name": "stdout",
     "output_type": "stream",
     "text": [
      "[0.07, 0.07, 0.21, 0.0, 0.1, 0.21, 0.05, 0.03, 0.0, 0.0, 0.0, 0.1, 0.12, 0.0, 0.05, 0.06, 0.0, 0.1, 0.05, 0.0, 0.11, 0.15, 0.06, 0.11, 0.0, 0.0, 0.0, 0.03, 0.0, 0.04, 0.05, 0.0, 0.0, 0.0, 0.04, 0.05, 0.0, 0.08, 0.04, 0.1, 0.04, 0.05, 0.08, 0.04, 0.0, 0.0, 0.02, 0.0, 0.0]\n"
     ]
    }
   ],
   "source": [
    "sentences = list(doc.sents) \n",
    "\n",
    "lemmas_words = set()\n",
    "for lemma, freq in lemma_freq.most_common(5):\n",
    "    lemmas_words.add(lemma)\n",
    "\n",
    "lscores = []\n",
    "for sentence in sentences:\n",
    "    lcount = 0\n",
    "    wcount = 0\n",
    "    for token in sentence:\n",
    "        if token.lemma_.lower() in lemmas_words:\n",
    "            lcount += 1\n",
    "        wcount +=1\n",
    "    sent_str = str(sentence).replace('\\n','').replace('  ',' ')\n",
    "    lscores.append(round(lcount/wcount,2))\n",
    "print(lscores)\n"
   ]
  },
  {
   "cell_type": "code",
   "execution_count": 8,
   "metadata": {},
   "outputs": [
    {
     "data": {
      "image/png": "[encoded data removed]",
      "text/plain": [
       "<Figure size 432x288 with 1 Axes>"
      ]
     },
     "metadata": {
      "needs_background": "light"
     },
     "output_type": "display_data"
    }
   ],
   "source": [
    "import matplotlib.pyplot as plt\n",
    "plt.hist(lscores)\n",
    "plt.xlabel('Score')\n",
    "plt.ylabel('Count')\n",
    "plt.title('Score of Lemmas')\n",
    "plt.show()"
   ]
  },
  {
   "cell_type": "markdown",
   "metadata": {},
   "source": [
    "7. Using the histograms from questions 5 and 6, decide a \"cutoff\" score for tokens and lemmas such that fewer than half the sentences would have a score greater than the cutoff score.  Record the scores in this Markdown cell\n",
    "\n",
    "* Cutoff Score (tokens): .1\n",
    "* Cutoff Score (lemmas): .1\n",
    "\n",
    "Feel free to change these scores as you generate your summaries.  Ideally, we're shooting for at least 6 sentences for our summary, but don't want more than 10 (these numbers are rough estimates; they depend on the length of your article)."
   ]
  },
  {
   "cell_type": "markdown",
   "metadata": {},
   "source": [
    "8. Create a summary of the article by going through every sentence in the article and adding it to an (initially) empty list if its score (based on tokens) is greater than the cutoff score you identified in question 8.  If your loop variable is named `sent`, you may find it easier to add `sent.text.strip()` to your list of sentences.  Print the summary (I would cleanly generate the summary text by `join`ing the strings in your list together with a space (`' '.join(sentence_list)`)."
   ]
  },
  {
   "cell_type": "code",
   "execution_count": 9,
   "metadata": {},
   "outputs": [],
   "source": [
    "lscores = []\n",
    "lsummarys = []\n",
    "lemma_cutoff = 0.1\n",
    "for sentence in sentences:\n",
    "    lcount = 0\n",
    "    wcount = 0\n",
    "    for token in sentence:\n",
    "        if token.lemma_.lower() in lemmas_words:\n",
    "            lcount += 1\n",
    "        wcount +=1\n",
    "    sent_str = str(sentence).replace('\\n','').replace('  ',' ')\n",
    "    lscores.append(round(lcount/wcount,2))\n",
    "    if lcount / wcount > lemma_cutoff:\n",
    "        lsummarys.append(1)\n",
    "    else: \n",
    "        lsummarys.append(0)\n"
   ]
  },
  {
   "cell_type": "code",
   "execution_count": 10,
   "metadata": {},
   "outputs": [
    {
     "name": "stdout",
     "output_type": "stream",
     "text": [
      "['When they had their chance for redemption in Week 13, they dropped their first game since Week 6 and their third consecutive game to the Cincinnati Bengals.', 'Buy Chiefs Tickets\\nWhat else did we learn about the Chiefs in their Week 13 loss?', 'They’d been doing it and daring the Chiefs to run the ball all game long.', 'Defensive line play must be better\\n\\n\\nSam Greene-USA TODAY Sports\\nThe Chiefs’ defensive line didn’t meet the standard in Week 13.', 'They were playing a Bengals team that heading into Week 13 had given up the third-most sacks in the NFL season (33).', 'The Bengals O-Line is playing better as of late, allowing just four sacks in its three games leading up to Week 13.', 'This is a group that hasn’t recorded fewer than three sacks in a game since Week 6.']\n"
     ]
    }
   ],
   "source": [
    "summary = []\n",
    "lsent = [sent.text.strip() for sent in sentences]\n",
    "count = 0\n",
    "for index, score in enumerate(lsummarys):\n",
    "    if score == 1:\n",
    "        summary.append(lsent[index])\n",
    "        count +=1\n",
    "print(summary)"
   ]
  },
  {
   "cell_type": "code",
   "execution_count": 11,
   "metadata": {},
   "outputs": [
    {
     "name": "stdout",
     "output_type": "stream",
     "text": [
      "When they had their chance for redemption in Week 13, they dropped their first game since Week 6 and their third consecutive game to the Cincinnati Bengals. Buy Chiefs Tickets\n",
      "What else did we learn about the Chiefs in their Week 13 loss? They’d been doing it and daring the Chiefs to run the ball all game long. Defensive line play must be better\n",
      "\n",
      "\n",
      "Sam Greene-USA TODAY Sports\n",
      "The Chiefs’ defensive line didn’t meet the standard in Week 13. They were playing a Bengals team that heading into Week 13 had given up the third-most sacks in the NFL season (33). The Bengals O-Line is playing better as of late, allowing just four sacks in its three games leading up to Week 13. This is a group that hasn’t recorded fewer than three sacks in a game since Week 6.\n"
     ]
    }
   ],
   "source": [
    "text_summary = ' '.join(summary)\n",
    "print(text_summary)"
   ]
  },
  {
   "cell_type": "markdown",
   "metadata": {},
   "source": [
    "9. Print the polarity score of your summary you generated with the token scores (with an appropriate label). Additionally, print the number of sentences in the summarized article."
   ]
  },
  {
   "cell_type": "code",
   "execution_count": 12,
   "metadata": {},
   "outputs": [
    {
     "name": "stdout",
     "output_type": "stream",
     "text": [
      "The polarity of this summary is -0.0636 There are 7 sentences.\n"
     ]
    }
   ],
   "source": [
    "nlp = spacy.load('en_core_web_sm')\n",
    "nlp.add_pipe('spacytextblob')\n",
    "doc_sum = nlp(text_summary)\n",
    "print(\"The polarity of this summary is\",round(doc_sum._.blob.polarity,4), \"There are\",count,\"sentences.\")  \n"
   ]
  },
  {
   "cell_type": "markdown",
   "metadata": {},
   "source": [
    "10. Create a summary of the article by going through every sentence in the article and adding it to an (initially) empty list if its score (based on lemmas) is greater than the cutoff score you identified in question 8.  If your loop variable is named `sent`, you may find it easier to add `sent.text.strip()` to your list of sentences.  Print the summary (I would cleanly generate the summary text by `join`ing the strings in your list together with a space (`' '.join(sentence_list)`)."
   ]
  },
  {
   "cell_type": "code",
   "execution_count": 13,
   "metadata": {},
   "outputs": [],
   "source": [
    "lscores = []\n",
    "lsummarys = []\n",
    "lemma_cutoff = 0.1\n",
    "for sentence in sentences:\n",
    "    lcount = 0\n",
    "    wcount = 0\n",
    "    for token in sentence:\n",
    "        if token.lemma_.lower() in lemmas_words:\n",
    "            lcount += 1\n",
    "        wcount +=1\n",
    "    sent_str = str(sentence).replace('\\n','').replace('  ',' ')\n",
    "    lscores.append(round(lcount/wcount,2))\n",
    "    if lcount / wcount > lemma_cutoff:\n",
    "        lsummarys.append(1)\n",
    "    else: \n",
    "        lsummarys.append(0)\n"
   ]
  },
  {
   "cell_type": "code",
   "execution_count": 14,
   "metadata": {},
   "outputs": [
    {
     "name": "stdout",
     "output_type": "stream",
     "text": [
      "['When they had their chance for redemption in Week 13, they dropped their first game since Week 6 and their third consecutive game to the Cincinnati Bengals.', 'Buy Chiefs Tickets\\nWhat else did we learn about the Chiefs in their Week 13 loss?', 'They’d been doing it and daring the Chiefs to run the ball all game long.', 'Defensive line play must be better\\n\\n\\nSam Greene-USA TODAY Sports\\nThe Chiefs’ defensive line didn’t meet the standard in Week 13.', 'They were playing a Bengals team that heading into Week 13 had given up the third-most sacks in the NFL season (33).', 'The Bengals O-Line is playing better as of late, allowing just four sacks in its three games leading up to Week 13.', 'This is a group that hasn’t recorded fewer than three sacks in a game since Week 6.']\n"
     ]
    }
   ],
   "source": [
    "summary = []\n",
    "lsent = [sent.text.strip() for sent in sentences]\n",
    "for index, score in enumerate(lsummarys):\n",
    "    if score == 1:\n",
    "        summary.append(lsent[index])\n",
    "\n",
    "print(summary)"
   ]
  },
  {
   "cell_type": "code",
   "execution_count": 15,
   "metadata": {},
   "outputs": [
    {
     "name": "stdout",
     "output_type": "stream",
     "text": [
      "When they had their chance for redemption in Week 13, they dropped their first game since Week 6 and their third consecutive game to the Cincinnati Bengals. Buy Chiefs Tickets\n",
      "What else did we learn about the Chiefs in their Week 13 loss? They’d been doing it and daring the Chiefs to run the ball all game long. Defensive line play must be better\n",
      "\n",
      "\n",
      "Sam Greene-USA TODAY Sports\n",
      "The Chiefs’ defensive line didn’t meet the standard in Week 13. They were playing a Bengals team that heading into Week 13 had given up the third-most sacks in the NFL season (33). The Bengals O-Line is playing better as of late, allowing just four sacks in its three games leading up to Week 13. This is a group that hasn’t recorded fewer than three sacks in a game since Week 6.\n"
     ]
    }
   ],
   "source": [
    "text_summary = ' '.join(summary)\n",
    "print(text_summary)"
   ]
  },
  {
   "cell_type": "markdown",
   "metadata": {},
   "source": [
    "11. Print the polarity score of your summary you generated with the lemma scores (with an appropriate label). Additionally, print the number of sentences in the summarized article."
   ]
  },
  {
   "cell_type": "code",
   "execution_count": 16,
   "metadata": {},
   "outputs": [
    {
     "name": "stdout",
     "output_type": "stream",
     "text": [
      "The polarity of this summary is -0.0636 There are 7 sentences.\n"
     ]
    }
   ],
   "source": [
    "nlp = spacy.load('en_core_web_sm')\n",
    "nlp.add_pipe('spacytextblob')\n",
    "doc_sum = nlp(text_summary)\n",
    "print(\"The polarity of this summary is\",round(doc_sum._.blob.polarity,4), \"There are\",count,\"sentences.\")  "
   ]
  },
  {
   "cell_type": "markdown",
   "metadata": {},
   "source": [
    "12.  Compare your polarity scores of your summaries to the polarity scores of the initial article.  Is there a difference?  Why do you think that may or may not be?.  Answer in this Markdown cell.  "
   ]
  },
  {
   "cell_type": "code",
   "execution_count": 17,
   "metadata": {},
   "outputs": [
    {
     "name": "stdout",
     "output_type": "stream",
     "text": [
      "The polarity score for the entire article is -0.25\n"
     ]
    }
   ],
   "source": [
    "nlp = spacy.load('en_core_web_sm')\n",
    "nlp.add_pipe('spacytextblob')\n",
    "text_article1 = ' '.join(text_article)\n",
    "doc_article = nlp(text_article1)\n",
    "print(\"The polarity score for the entire article is\",doc_article._.blob.polarity ) "
   ]
  },
  {
   "cell_type": "markdown",
   "metadata": {},
   "source": [
    "#### The polarity score for the entire article jumps to -0.25 from -0.063. I think this is due to the fact of that the words we used to help with the summary have more of a positive enhancer to them. When we look at the entire article there will be other words that are more neutral or negative that don't get put into the summary, causing the entire article to be more negative. "
   ]
  },
  {
   "cell_type": "markdown",
   "metadata": {},
   "source": [
    "13. Based on your reading of the original article, which summary do you think is better (if there's a difference).  Why do you think this might be?"
   ]
  },
  {
   "cell_type": "markdown",
   "metadata": {},
   "source": [
    "#### There's no difference"
   ]
  }
 ],
 "metadata": {
  "kernelspec": {
   "display_name": "Python 3",
   "language": "python",
   "name": "python3"
  },
  "language_info": {
   "codemirror_mode": {
    "name": "ipython",
    "version": 3
   },
   "file_extension": ".py",
   "mimetype": "text/x-python",
   "name": "python",
   "nbconvert_exporter": "python",
   "pygments_lexer": "ipython3",
   "version": "3.8.5"
  }
 },
 "nbformat": 4,
 "nbformat_minor": 4
}
